{
  "nbformat": 4,
  "nbformat_minor": 0,
  "metadata": {
    "colab": {
      "provenance": [],
      "toc_visible": true,
      "authorship_tag": "ABX9TyMjTfzipVHlfMzhiUs/ONnQ",
      "include_colab_link": true
    },
    "kernelspec": {
      "name": "python3",
      "display_name": "Python 3"
    },
    "language_info": {
      "name": "python"
    }
  },
  "cells": [
    {
      "cell_type": "markdown",
      "metadata": {
        "id": "view-in-github",
        "colab_type": "text"
      },
      "source": [
        "<a href=\"https://colab.research.google.com/github/kellyDMmendes/beecrowd_c99/blob/main/09_tuplas.ipynb\" target=\"_parent\"><img src=\"https://colab.research.google.com/assets/colab-badge.svg\" alt=\"Open In Colab\"/></a>"
      ]
    },
    {
      "cell_type": "markdown",
      "source": [
        "# **Tuplas**"
      ],
      "metadata": {
        "id": "fpGyjzlRTCBX"
      }
    },
    {
      "cell_type": "code",
      "execution_count": null,
      "metadata": {
        "id": "SRXzoPcLS5FI"
      },
      "outputs": [],
      "source": [
        "# TUPLAS\n",
        "linguagens = ('Assembly', 'JAVA', 'Python', 'C#')\n",
        "print(linguagens)\n",
        "\n",
        "linguagens2 = 'Assembly', 'JAVA', 'Python', 'C#'\n",
        "print(linguagens2)\n",
        "\n",
        "print(type(linguagens2))\n",
        "\n",
        "# ACESSO AS TUPLAS\n",
        "lanches = ('Hamburguer', 'Pastel', 'Coxinha', 'Pizza')\n",
        "\n",
        "print(lanches[0])     # Primeiro item\n",
        "print(lanches[-1])    # Último item\n",
        "print(lanches[1:3])   # Dois itens\n",
        "print(lanches[1:])    # A partir do segundo\n",
        "print(lanches[:2])    # Até o segundo\n",
        "print(lanches[:])     # Todos\n",
        "\n",
        "# GERA ERRO (TUPLA É IMUTÁVEL)\n",
        "lanches = ('Hamburguer', 'Pastel', 'Coxinha', 'Pizza')\n",
        "lanches[0] = 'Hotdog'\n",
        "\n",
        "# PERCORRER UMA TUPLA\n",
        "lanches = ('Hamburguer', 'Pastel', 'Coxinha', 'Pizza')\n",
        "for lanche in lanches:\n",
        "    print(lanche)\n",
        "\n",
        "# PERCORRER UMA TUPLA POR ÍNDICE\n",
        "lanches = ('Hamburguer', 'Pastel', 'Coxinha', 'Pizza')\n",
        "for i in range(len(lanches)):\n",
        "    print(lanches[i])\n",
        "\n",
        "# PERCORRER UMA TUPLA POR ÍNDICE E ITEM\n",
        "lanches = ('Hamburguer', 'Pastel', 'Coxinha', 'Pizza')\n",
        "for posicao, lanche in enumerate(lanches):\n",
        "    print(f\"[{posicao+1}] {lanche}\")\n",
        "\n",
        "# CONVERTER LISTA EM TUPLA\n",
        "lista = list()\n",
        "lista = [1, 2, 3, 4, 5]\n",
        "print(lista)\n",
        "\n",
        "tupla = tuple(lista)\n",
        "print(tupla)\n",
        "\n",
        "# MÉTODO SORTED\n",
        "lanches = ('Hamburguer', 'Pastel', 'Coxinha', 'Pizza')\n",
        "\n",
        "ordenar = sorted(lanches)\n",
        "print(ordenar)\n",
        "print(type(ordenar))\n",
        "ordenar = tuple(ordenar)\n",
        "print(type(ordenar))\n",
        "\n",
        "# MÉTODO DEL\n",
        "lanches = ('Hamburguer', 'Pastel', 'Coxinha', 'Pizza')\n",
        "\n",
        "del(lanches)\n",
        "print(lanches) # Gera erro (a Tupla não existe mais)\n",
        "\n",
        "# CONCATENAR TUPLAS\n",
        "lanches = ('Hamburguer', 'Pastel', 'Coxinha', 'Pizza')\n",
        "doces = ('Pudim', 'Bolo', 'Sorvete')\n",
        "\n",
        "unificada = lanches+doces\n",
        "\n",
        "print(unificada)\n",
        "\n",
        "# CRIAR TUPLA COM FOR\n",
        "import random\n",
        "tupla = tuple(int(random.randint(1, 30)) for x in range(10))\n",
        "\n",
        "print(tupla)\n",
        "\n",
        "# CRIAR TUPLA COM FOR\n",
        "import random\n",
        "tupla = tuple(input(f\"Digite o {x+1}º item: \") for x in range(5))\n",
        "\n",
        "print(tupla)"
      ]
    }
  ]
}